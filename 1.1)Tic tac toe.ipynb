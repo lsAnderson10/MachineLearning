{
 "cells": [
  {
   "cell_type": "markdown",
   "metadata": {},
   "source": [
    "## Tic tac toe"
   ]
  },
  {
   "cell_type": "code",
   "execution_count": 1,
   "metadata": {},
   "outputs": [],
   "source": [
    "import numpy as np\n",
    "import pandas as pd\n",
    "import matplotlib.pyplot as plt\n",
    "from sklearn.model_selection import train_test_split\n",
    "from sklearn.naive_bayes import GaussianNB"
   ]
  },
  {
   "cell_type": "code",
   "execution_count": 2,
   "metadata": {},
   "outputs": [],
   "source": [
    "# Loading data\n",
    "data = pd.read_csv(\"E:/lab1_data/tic_tac_toe.txt\", sep = \",\")\n",
    "gnb = GaussianNB()"
   ]
  },
  {
   "cell_type": "code",
   "execution_count": 3,
   "metadata": {},
   "outputs": [],
   "source": [
    "# Setting cols.\n",
    "data.columns = [\"first_row_left\", \"first_row_middle\", \"first_row_right\", \"center_row_left\", \"center_row_middle\", \"center_row_right\", \"bottom_row_left\", \"bottom_row_middle\", \"bottom_row_right\", \"is_win\"]\n",
    "\n",
    "# As we can see the the different move options, we perform label encoding.\n",
    "mapping_for_moves = {'x':1, \"o\":0} # For b, we put mean of the data.\n",
    "mapping_for_wins = {\"positive\":1, \"negative\":0} # Positive is win, negative is lose\n",
    "data.is_win = data.is_win.map(mapping_for_wins)\n"
   ]
  },
  {
   "cell_type": "code",
   "execution_count": 4,
   "metadata": {},
   "outputs": [],
   "source": [
    "from sklearn.preprocessing import LabelEncoder\n",
    "encoded_data = data.apply(LabelEncoder().fit_transform)"
   ]
  },
  {
   "cell_type": "code",
   "execution_count": 6,
   "metadata": {},
   "outputs": [],
   "source": [
    "from sklearn.metrics import accuracy_score\n",
    "\n",
    "test_size = [i / 10 for i in range(1, 10)]\n",
    "accuracy = []\n",
    "accuracy_train = []\n",
    "for i in test_size:\n",
    "    features_train, features_test, labels_train, labels_test = train_test_split(\n",
    "        encoded_data.drop(['is_win'], axis=1), \n",
    "        encoded_data['is_win'], \n",
    "        test_size=i)\n",
    "    gnb.fit(features_train, labels_train)\n",
    "    #test\n",
    "    gnb_pred = gnb.predict(features_test)\n",
    "    accuracy.append(accuracy_score(labels_test, gnb_pred))\n",
    "    #train\n",
    "    predicted = gnb.predict(features_train)\n",
    "    accuracy_train.append(accuracy_score(labels_train, predicted))"
   ]
  },
  {
   "cell_type": "code",
   "execution_count": 8,
   "metadata": {
    "scrolled": true
   },
   "outputs": [
    {
     "data": {
      "text/plain": [
       "<matplotlib.legend.Legend at 0x18fcf164f08>"
      ]
     },
     "execution_count": 8,
     "metadata": {},
     "output_type": "execute_result"
    },
    {
     "data": {
      "image/png": "[encoded data removed]",
      "text/plain": [
       "<Figure size 432x288 with 1 Axes>"
      ]
     },
     "metadata": {
      "needs_background": "light"
     },
     "output_type": "display_data"
    }
   ],
   "source": [
    "axes = plt.gca()\n",
    "axes.set_ylabel('accuracy')\n",
    "axes.set_xlabel('Test Size')\n",
    "axes.set_xlim([0.0, 1.0])\n",
    "axes.set_ylim([0.0, 1.0])\n",
    "plt.plot(test_size, accuracy, label='Test')\n",
    "plt.plot(test_size, accuracy_train, label='Train')\n",
    "plt.legend()\n"
   ]
  },
  {
   "cell_type": "code",
   "execution_count": null,
   "metadata": {},
   "outputs": [],
   "source": []
  }
 ],
 "metadata": {
  "kernelspec": {
   "display_name": "Python 3",
   "language": "python",
   "name": "python3"
  },
  "language_info": {
   "codemirror_mode": {
    "name": "ipython",
    "version": 3
   },
   "file_extension": ".py",
   "mimetype": "text/x-python",
   "name": "python",
   "nbconvert_exporter": "python",
   "pygments_lexer": "ipython3",
   "version": "3.7.6"
  }
 },
 "nbformat": 4,
 "nbformat_minor": 2
}
