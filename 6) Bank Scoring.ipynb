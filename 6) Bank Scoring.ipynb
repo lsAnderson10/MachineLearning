{
 "cells": [
  {
   "cell_type": "code",
   "execution_count": 1,
   "metadata": {},
   "outputs": [],
   "source": [
    "import numpy as np\n",
    "import pandas as pd\n",
    "import math\n",
    "import matplotlib.pyplot as plt\n",
    "from sklearn import tree\n",
    "from sklearn.metrics import accuracy_score, recall_score, precision_score\n",
    "from sklearn.model_selection import train_test_split\n",
    "from sklearn.neighbors import KNeighborsClassifier\n",
    "from sklearn.metrics import precision_recall_curve\n",
    "from sklearn.metrics import confusion_matrix\n",
    "import itertools"
   ]
  },
  {
   "cell_type": "code",
   "execution_count": 2,
   "metadata": {},
   "outputs": [],
   "source": [
    "# Code from https://scikit-learn.org/0.18/auto_examples/model_selection/plot_confusion_matrix.html\n",
    "\n",
    "def plot_confusion_matrix(cm, classes,\n",
    "                          normalize=False,\n",
    "                          title='Confusion matrix',\n",
    "                          cmap=plt.cm.Blues):\n",
    "    \"\"\"\n",
    "    This function prints and plots the confusion matrix.\n",
    "    Normalization can be applied by setting `normalize=True`.\n",
    "    \"\"\"\n",
    "    plt.imshow(cm, interpolation='nearest', cmap=cmap)\n",
    "    plt.title(title)\n",
    "    plt.colorbar()\n",
    "    tick_marks = np.arange(len(classes))\n",
    "    plt.xticks(tick_marks, classes, rotation=45)\n",
    "    plt.yticks(tick_marks, classes)\n",
    "\n",
    "    if normalize:\n",
    "        cm = cm.astype('float') / cm.sum(axis=1)[:, np.newaxis]\n",
    "        # print(\"Normalized confusion matrix\")\n",
    "    else:\n",
    "        pass\n",
    "        # print('Confusion matrix, without normalization')\n",
    "\n",
    "    thresh = cm.max() / 2.\n",
    "    for i, j in itertools.product(range(cm.shape[0]), range(cm.shape[1])):\n",
    "        plt.text(j, i, cm[i, j],\n",
    "                 horizontalalignment=\"center\",\n",
    "                 color=\"white\" if cm[i, j] > thresh else \"black\")\n",
    "\n",
    "    plt.tight_layout()\n",
    "    plt.ylabel('True label')\n",
    "    plt.xlabel('Predicted label')\n",
    "# ---------------------------------------\n",
    "\n",
    "def get_info(predicted, y, name, conf_matrix=False):\n",
    "    cm = confusion_matrix(y, predicted)\n",
    "\n",
    "    print(f'Accuracy score ({name}): ', accuracy_score(y, predicted))\n",
    "\n",
    "    print('Precision: ', precision_score(y, predicted))\n",
    "    print('Recall: ', recall_score(y, predicted))\n",
    "    print()\n",
    "    \n",
    "    if conf_matrix:\n",
    "        plot_confusion_matrix(cm, classes=[' does not deteriorate','does deteriorate'], title=f'Confusion matrix ({name})')"
   ]
  },
  {
   "cell_type": "code",
   "execution_count": 3,
   "metadata": {},
   "outputs": [],
   "source": [
    "data = pd.read_csv('E:/lab1_data/bank_scoring_train.csv', sep='\\t')\n",
    "data_test = pd.read_csv('E:/lab1_data/bank_scoring_test.csv', sep='\\t')"
   ]
  },
  {
   "cell_type": "code",
   "execution_count": 4,
   "metadata": {},
   "outputs": [],
   "source": [
    "x_train = data.drop(['SeriousDlqin2yrs'], axis=1)\n",
    "y_train = data['SeriousDlqin2yrs'] \n",
    "x_test = data_test.drop(['SeriousDlqin2yrs'], axis=1)\n",
    "y_test = data_test['SeriousDlqin2yrs']"
   ]
  },
  {
   "cell_type": "markdown",
   "metadata": {},
   "source": [
    "# K Neighbors Classifier"
   ]
  },
  {
   "cell_type": "code",
   "execution_count": 5,
   "metadata": {},
   "outputs": [
    {
     "name": "stdout",
     "output_type": "stream",
     "text": [
      "{'recall': 0.5996354799513973, 'n': 1}\n",
      "{'recall': 0.5996354799513973, 'metric': 'euclidean'}\n"
     ]
    }
   ],
   "source": [
    "recall = [] \n",
    "for n in range(1, 16, 2):\n",
    "    model = KNeighborsClassifier(n_neighbors=n)\n",
    "    model.fit(x_train, y_train)\n",
    "\n",
    "    predicted = model.predict(x_test)\n",
    "\n",
    "    recall.append({'recall': recall_score(y_test, predicted),\n",
    "                   'n': n})\n",
    "\n",
    "max_recall = max(recall, key=lambda i: i['recall'])\n",
    "print(max_recall)\n",
    "\n",
    "recall = [] \n",
    "metrics = ['euclidean', 'manhattan', 'chebyshev', 'minkowski']\n",
    "for metric in metrics:\n",
    "    model = KNeighborsClassifier(n_neighbors=1, metric=metric)\n",
    "    model.fit(x_train, y_train)\n",
    "\n",
    "    predicted = model.predict(x_test)\n",
    "\n",
    "    recall.append({'recall': recall_score(y_test, predicted),\n",
    "                   'metric': metric})\n",
    "\n",
    "max_recall = max(recall, key=lambda i: i['recall'])\n",
    "print(max_recall)"
   ]
  },
  {
   "cell_type": "code",
   "execution_count": 6,
   "metadata": {},
   "outputs": [
    {
     "name": "stdout",
     "output_type": "stream",
     "text": [
      "Accuracy score (test):  0.9536856109425019\n",
      "Precision:  0.6844660194174758\n",
      "Recall:  0.5996354799513973\n",
      "\n",
      "Accuracy score (train):  0.9999584268728694\n",
      "Precision:  0.9993964996982498\n",
      "Recall:  1.0\n",
      "\n"
     ]
    },
    {
     "data": {
      "image/png": "[encoded data removed]",
      "text/plain": [
       "<Figure size 432x288 with 2 Axes>"
      ]
     },
     "metadata": {
      "needs_background": "light"
     },
     "output_type": "display_data"
    }
   ],
   "source": [
    "model = KNeighborsClassifier(n_neighbors=1)\n",
    "model.fit(x_train, y_train)\n",
    "\n",
    "predicted_test = model.predict(x_test)\n",
    "predicted_train = model.predict(x_train)\n",
    "\n",
    "get_info(predicted_test, y_test, 'test', True)\n",
    "get_info(predicted_train, y_train, 'train')"
   ]
  },
  {
   "cell_type": "markdown",
   "metadata": {},
   "source": [
    "# Decision Tree Classifier"
   ]
  },
  {
   "cell_type": "code",
   "execution_count": 7,
   "metadata": {},
   "outputs": [
    {
     "name": "stdout",
     "output_type": "stream",
     "text": [
      "{'recall': 0.6688942891859052, 'min_split': 2}\n",
      "{'recall': 0.6713244228432563, 'max_depth': 32}\n"
     ]
    }
   ],
   "source": [
    "recall = [] \n",
    "for min_samples_split in range(2, 16):\n",
    "    model = tree.DecisionTreeClassifier(random_state=1, min_samples_split=min_samples_split)\n",
    "    model.fit(x_train, y_train)\n",
    "\n",
    "    predicted = model.predict(x_test)\n",
    "\n",
    "    recall.append({'recall': recall_score(y_test, predicted),\n",
    "                   'min_split': min_samples_split})\n",
    "\n",
    "max_recall = max(recall, key=lambda i: i['recall'])\n",
    "print(max_recall)\n",
    "\n",
    "recall = [] \n",
    "for max_depth in range(1, 50):\n",
    "    model = tree.DecisionTreeClassifier(random_state=1, min_samples_split=2, max_depth=max_depth)\n",
    "    model.fit(x_train, y_train)\n",
    "\n",
    "    predicted = model.predict(x_test)\n",
    "\n",
    "    recall.append({'recall': recall_score(y_test, predicted),\n",
    "                   'max_depth': max_depth})\n",
    "\n",
    "max_recall = max(recall, key=lambda i: i['recall'])\n",
    "print(max_recall)"
   ]
  },
  {
   "cell_type": "code",
   "execution_count": 8,
   "metadata": {},
   "outputs": [
    {
     "name": "stdout",
     "output_type": "stream",
     "text": [
      "Accuracy score (test):  0.9525630898432628\n",
      "Precision:  0.6480938416422287\n",
      "Recall:  0.6713244228432563\n",
      "\n",
      "Accuracy score (train):  0.9997089881100857\n",
      "Precision:  0.9993943064809206\n",
      "Recall:  0.9963768115942029\n",
      "\n"
     ]
    },
    {
     "data": {
      "image/png": "[encoded data removed]",
      "text/plain": [
       "<Figure size 432x288 with 2 Axes>"
      ]
     },
     "metadata": {
      "needs_background": "light"
     },
     "output_type": "display_data"
    }
   ],
   "source": [
    "model_tree = tree.DecisionTreeClassifier(random_state=1, min_samples_split=2, max_depth=32)\n",
    "model_tree.fit(x_train, y_train)\n",
    "\n",
    "tree_pred_test = model_tree.predict(x_test)\n",
    "tree_pred_train = model_tree.predict(x_train)\n",
    "\n",
    "get_info(tree_pred_test, y_test, 'test', True)\n",
    "get_info(tree_pred_train, y_train, 'train')"
   ]
  },
  {
   "cell_type": "markdown",
   "metadata": {},
   "source": [
    "DecisionTreeClassifier worked best"
   ]
  },
  {
   "cell_type": "code",
   "execution_count": null,
   "metadata": {},
   "outputs": [],
   "source": []
  }
 ],
 "metadata": {
  "kernelspec": {
   "display_name": "Python 3",
   "language": "python",
   "name": "python3"
  },
  "language_info": {
   "codemirror_mode": {
    "name": "ipython",
    "version": 3
   },
   "file_extension": ".py",
   "mimetype": "text/x-python",
   "name": "python",
   "nbconvert_exporter": "python",
   "pygments_lexer": "ipython3",
   "version": "3.7.6"
  }
 },
 "nbformat": 4,
 "nbformat_minor": 4
}
